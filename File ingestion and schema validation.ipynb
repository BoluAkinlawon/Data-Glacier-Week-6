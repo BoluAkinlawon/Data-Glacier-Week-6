{
 "cells": [
  {
   "cell_type": "code",
   "execution_count": 1,
   "id": "e96ff337",
   "metadata": {},
   "outputs": [],
   "source": [
    "import pandas as pd"
   ]
  },
  {
   "cell_type": "markdown",
   "id": "c19e5dc3",
   "metadata": {},
   "source": [
    "## Reading with Pandas"
   ]
  },
  {
   "cell_type": "code",
   "execution_count": null,
   "id": "3af3bf0f",
   "metadata": {},
   "outputs": [],
   "source": [
    "%%time\n",
    "file = pd.read_csv(\"Parking_Violations_Issued_-_Fiscal_Year_2017.csv\", low_memory = False)"
   ]
  },
  {
   "cell_type": "code",
   "execution_count": null,
   "id": "19956277",
   "metadata": {},
   "outputs": [],
   "source": [
    "file.head()"
   ]
  },
  {
   "cell_type": "code",
   "execution_count": null,
   "id": "e6f6ce85",
   "metadata": {},
   "outputs": [],
   "source": [
    "file.shape"
   ]
  },
  {
   "cell_type": "code",
   "execution_count": null,
   "id": "7f033594",
   "metadata": {},
   "outputs": [],
   "source": [
    "%%time\n",
    "_=file['Vehicle Make'].unique()\n",
    "len(_)"
   ]
  },
  {
   "cell_type": "code",
   "execution_count": null,
   "id": "3ac2e58c",
   "metadata": {},
   "outputs": [],
   "source": [
    "## Pandas Summary Results\n",
    "\n",
    "Read: 1min 20s <br>\n",
    "Unique Vehicle names: 657 ms"
   ]
  },
  {
   "cell_type": "markdown",
   "id": "c53cab95",
   "metadata": {},
   "source": [
    "### Reading with Ray"
   ]
  },
  {
   "cell_type": "code",
   "execution_count": null,
   "id": "3755c533",
   "metadata": {},
   "outputs": [],
   "source": [
    "!pip install ray > /dev/null"
   ]
  },
  {
   "cell_type": "code",
   "execution_count": null,
   "id": "3a4a6f12",
   "metadata": {},
   "outputs": [],
   "source": [
    "import ray\n",
    "print('Ray version', ray.__version__)"
   ]
  }
 ],
 "metadata": {
  "kernelspec": {
   "display_name": "Python 3 (ipykernel)",
   "language": "python",
   "name": "python3"
  },
  "language_info": {
   "codemirror_mode": {
    "name": "ipython",
    "version": 3
   },
   "file_extension": ".py",
   "mimetype": "text/x-python",
   "name": "python",
   "nbconvert_exporter": "python",
   "pygments_lexer": "ipython3",
   "version": "3.9.12"
  }
 },
 "nbformat": 4,
 "nbformat_minor": 5
}
